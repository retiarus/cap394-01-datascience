{
 "cells": [
  {
   "cell_type": "code",
   "execution_count": 1,
   "metadata": {},
   "outputs": [],
   "source": [
    "import os\n",
    "import sys\n",
    "import warnings\n",
    "\n",
    "import matplotlib.pyplot as plt\n",
    "import numpy as np\n",
    "import pandas as pd\n",
    "import seaborn as sns\n",
    "\n",
    "import utils\n",
    "\n",
    "from utils import local_data\n",
    "from utils import window\n",
    "from utils import Scale\n",
    "\n",
    "%matplotlib inline\n",
    "warnings.filterwarnings('ignore')"
   ]
  },
  {
   "cell_type": "code",
   "execution_count": 2,
   "metadata": {},
   "outputs": [],
   "source": [
    "df_series_vtec = pd.read_pickle(os.path.join(local_data, \"df_series_tec_re.pkl.xz\"), compression='xz')\n",
    "df_series_s4 = pd.read_pickle(os.path.join(local_data, \"df_series_s4_re.pkl.xz\"), compression='xz')\n",
    "df_station = pd.read_pickle(os.path.join(local_data, 'df_station_sort_re.pkl'))"
   ]
  },
  {
   "cell_type": "code",
   "execution_count": 3,
   "metadata": {},
   "outputs": [],
   "source": [
    "vtec_sj2 = df_series_vtec['sj2']\n",
    "s4_sj2 = df_series_s4['sj2']"
   ]
  },
  {
   "cell_type": "code",
   "execution_count": 4,
   "metadata": {},
   "outputs": [],
   "source": [
    "# calculate first order derivative in time for the tec data\n",
    "# and then, save series \n",
    "\n",
    "vtec_sj2_lag_1 = vtec_sj2.shift(1)\n",
    "\n",
    "#data_series_tec = data_series_tec - vtec_shift_lag_1\n",
    "#data_series_tec.to_pickle(\"/home/peregrinus/dscience/data_series_tec_first_derivative.pkl\")"
   ]
  },
  {
   "cell_type": "code",
   "execution_count": 5,
   "metadata": {},
   "outputs": [
    {
     "name": "stdout",
     "output_type": "stream",
     "text": [
      "Valor mínimo de vtec: -9.345570161607602\n",
      "Valor máximo de vtec: 102.68906554876085\n",
      "Valor mínimo de s4: 0.11361735127130197\n",
      "Valor máximo de s4: 0.7119249756191673\n"
     ]
    }
   ],
   "source": [
    "# to vtec data\n",
    "value_min_vtec = vtec_sj2.min()\n",
    "value_max_vtec = vtec_sj2.max()\n",
    "\n",
    "print('Valor mínimo de vtec:', value_min_vtec)\n",
    "print('Valor máximo de vtec:', value_max_vtec)\n",
    "\n",
    "scale_vtec = Scale(value_min_vtec, value_max_vtec)\n",
    "\n",
    "# to s4 data\n",
    "value_min_s4 = s4_sj2.min()\n",
    "value_max_s4 = s4_sj2.max()\n",
    "\n",
    "print('Valor mínimo de s4:', value_min_s4)\n",
    "print('Valor máximo de s4:', value_max_s4)\n",
    "\n",
    "scale_s4 = Scale(value_min_s4, value_max_s4)\n",
    "\n",
    "\n",
    "vtec_sj2 = pd.Series(scale_vtec(vtec_sj2.values.ravel()), index=vtec_sj2.index)\n",
    "s4_sj2 = pd.Series(scale_vtec(s4_sj2.values.ravel()), index=s4_sj2.index)\n",
    "\n",
    "#s4_sj2.values = scale_s4(s4_sj2.values.ravel())"
   ]
  },
  {
   "cell_type": "code",
   "execution_count": null,
   "metadata": {},
   "outputs": [],
   "source": []
  }
 ],
 "metadata": {
  "kernelspec": {
   "display_name": "Python (Data Science)",
   "language": "python",
   "name": "dscience"
  },
  "language_info": {
   "codemirror_mode": {
    "name": "ipython",
    "version": 3
   },
   "file_extension": ".py",
   "mimetype": "text/x-python",
   "name": "python",
   "nbconvert_exporter": "python",
   "pygments_lexer": "ipython3",
   "version": "3.6.6"
  }
 },
 "nbformat": 4,
 "nbformat_minor": 2
}
