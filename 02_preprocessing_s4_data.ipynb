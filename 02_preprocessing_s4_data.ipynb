{
 "cells": [
  {
   "cell_type": "markdown",
   "metadata": {},
   "source": [
    "# Preprocessamento S4\n",
    "___\n",
    "\n",
    "Este notebook realiza um pré-processamento dos dados de S4 disponibilizados em data_s4. O preprocessamento consiste de uma conversão de indices para tratamento de séries temporais, uma reamostragem para amostras de 1s (nos dados orginais, o número de medidas a cada segundo, dependendo do número de satélites visíveis, porém, em geral é mais que um), interpolaçãos spline, seguido de suavização com um kernel gaussiano com janela de tamanho 25, seguindo como uma reamostragem para dados a cada 10 mim, e uma suavização usando um kernel gausiano de janela 25."
   ]
  },
  {
   "cell_type": "code",
   "execution_count": null,
   "metadata": {},
   "outputs": [],
   "source": [
    "import os\n",
    "import re\n",
    "import sys\n",
    "\n",
    "import pathos.multiprocessing as mulprocessing\n",
    "import pandas as pd\n",
    "\n",
    "from functools import partial\n",
    "from scipy.signal import savgol_filter\n",
    "from pathos.multiprocessing import ProcessPool\n",
    "\n",
    "import utils\n",
    "from utils import local_s4, local_s4_pre\n",
    "from utils import window"
   ]
  },
  {
   "cell_type": "code",
   "execution_count": null,
   "metadata": {},
   "outputs": [],
   "source": [
    "files = os.listdir(local_s4)"
   ]
  },
  {
   "cell_type": "code",
   "execution_count": null,
   "metadata": {},
   "outputs": [],
   "source": [
    "print(files)"
   ]
  },
  {
   "cell_type": "markdown",
   "metadata": {},
   "source": [
    "Inicialmente, os dados de S4 são tais que existe mais de uma amostra por minuto, decorrente dos múltiplos satélites de GPS que estavam no campo de visada da estão naquele intervalo.\n",
    "\n",
    "O primeiro passo, assim, é combinar as várias medidas no intervalo de minuto gerando uma única medida por minuto, neste caso, tomou-se o valor m?dio de todos as medidas neste intervalo.\n",
    "\n",
    "O segundo passo é tratar as entradas sem valores, aqui, decidiu-se por utilizar uma interpolação por spline de ordem 3.\n",
    "\n",
    "O terceiro passo foi uma reamostragem dos dados para intervalores de 10 minutos, de forma, a compatibilizar com as taxas de amostragem dos demais dados a serem utilizados como o VTEC.\n",
    "\n",
    "Segue-se então como uma suavização do sinal, por meio de uma aplicação de uma média móvel centrada com pesos gaussianos. Note, uma vez que trata-se de uma m?dia centrada:\n",
    "\n",
    "\\begin{equation}\n",
    "y_t = \\sum_{i=-n}^{+n}w_iy_{t+i}\n",
    "\\end{equation}\n",
    "\n",
    "onde $n$  a srepresenta o tamanho da janela. A suavização definiada, assim, leva em conta pontos futuros, tornando-a inadequada para aplicações em tempo real, pontos no futuro não são conhecidos, e em previsões de séries temporais, a suavização adiciona contribuição do futuro aos dados."
   ]
  },
  {
   "cell_type": "code",
   "execution_count": null,
   "metadata": {},
   "outputs": [],
   "source": [
    "def preprocessing(df_file, window):\n",
    "    df_s4 = pd.read_pickle(os.path.join(local_s4, df_file), compression='xz')\n",
    "    df_s4['eventdate'] = pd.to_datetime(df_s4['eventdate'], utc=True)\n",
    "    df_s4.index = df_s4['eventdate']\n",
    "    del df_s4['eventdate']\n",
    "    \n",
    "    # change for 1s\n",
    "    df_s4 = df_s4.resample('1T').mean()\n",
    "    df_s4 = df_s4.interpolate(method='spline', order=4) #4\n",
    "\n",
    "    # change for 10min\n",
    "    df_s4 = df_s4.resample('10T').mean()\n",
    "\n",
    "    # aplay filter Savitzky-Golay\n",
    "    # aplay a gaussian move average\n",
    "    df_s4['s4'] = savgol_filter(df_s4.values.ravel(), window, 3)\n",
    "    df_s4 = df_s4.rolling(window, win_type='gaussian', center=True).mean(std=1.0)\n",
    "    \n",
    "    return df_s4\n",
    "\n",
    "preprocessing_window = partial(preprocessing, window=window)"
   ]
  },
  {
   "cell_type": "code",
   "execution_count": null,
   "metadata": {},
   "outputs": [],
   "source": [
    "%%time\n",
    "df_s4_list = ProcessPool(nodes=mulprocessing.cpu_count()).map(preprocessing_window, files)"
   ]
  },
  {
   "cell_type": "code",
   "execution_count": null,
   "metadata": {},
   "outputs": [],
   "source": [
    "for name, df_s4 in zip(files, df_s4_list):\n",
    "    df_s4.to_pickle(os.path.join(local_s4_pre,'pre_' + name.replace('.xz', '')))"
   ]
  },
  {
   "cell_type": "code",
   "execution_count": null,
   "metadata": {},
   "outputs": [],
   "source": [
    "list_files = [os.path.join(local_s4_pre, i) for i in os.listdir(local_s4_pre)]"
   ]
  },
  {
   "cell_type": "code",
   "execution_count": null,
   "metadata": {},
   "outputs": [],
   "source": [
    "def df_list(list_files): \n",
    "    for i in list_files:\n",
    "        df_s4 = pd.read_pickle(i)\n",
    "        pattern = re.compile(local_s4_pre + \"/\" + \"pre_df_(.*)\\.pkl\")\n",
    "        name = pattern.sub(r'\\1', i)\n",
    "        yield df_s4.rename(index=str, columns={\"s4\": name})\n",
    "        \n",
    "df_combine = partial(df_list, list_files=list_files)\n",
    "\n",
    "df_s4 = pd.concat(df_combine(), axis=1, sort=True)"
   ]
  },
  {
   "cell_type": "code",
   "execution_count": null,
   "metadata": {},
   "outputs": [],
   "source": [
    "df_s4.head()"
   ]
  },
  {
   "cell_type": "code",
   "execution_count": null,
   "metadata": {},
   "outputs": [],
   "source": [
    "size = df_s4.columns.size\n",
    "fig, ax = plt.subplots(size, 1)\n",
    "for idx, i in enumerate(df_s4.columns):\n",
    "    name = df_station.loc[df_station['identificationstation'] == i].index[0]\n",
    "    df_series_vtec[i][0:512].plot(figsize=(24, 160), ax=ax[idx], label=name)\n",
    "    ax[idx].legend(loc=\"upper right\")"
   ]
  }
 ],
 "metadata": {
  "kernelspec": {
   "display_name": "Python (Data Science)",
   "language": "python",
   "name": "dscience"
  },
  "language_info": {
   "codemirror_mode": {
    "name": "ipython",
    "version": 3
   },
   "file_extension": ".py",
   "mimetype": "text/x-python",
   "name": "python",
   "nbconvert_exporter": "python",
   "pygments_lexer": "ipython3",
   "version": "3.6.6"
  }
 },
 "nbformat": 4,
 "nbformat_minor": 2
}
