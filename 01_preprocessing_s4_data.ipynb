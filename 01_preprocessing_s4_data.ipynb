{
 "cells": [
  {
   "cell_type": "markdown",
   "metadata": {},
   "source": [
    "# Preprocessamento S4\n",
    "___\n",
    "\n",
    "Este notebook realiza um pré-processamento dos dados de S4 disponibilizados em data_s4. O preprocessamento consiste de uma conversão de indices para tratamento de séries temporais, uma reamostragem para amostras de 1s (nos dados orginais, o número de medidas a cada segundo, dependendo do número de satélites visíveis, porém, em geral é mais que um), interpolaçãos spline, seguido de suavização com um kernel gaussiano com janela de tamanho 25, seguindo como uma reamostragem para dados a cada 10 mim, e uma suavização usando um kernel gausiano de janela 25."
   ]
  },
  {
   "cell_type": "code",
   "execution_count": 1,
   "metadata": {},
   "outputs": [],
   "source": [
    "import os\n",
    "import re\n",
    "import sys\n",
    "\n",
    "import pathos.multiprocessing as mulprocessing\n",
    "import pandas as pd\n",
    "\n",
    "from functools import partial\n",
    "from scipy.signal import savgol_filter\n",
    "from pathos.multiprocessing import ProcessPool\n",
    "\n",
    "import utils\n",
    "from utils import local_s4, local_s4_pre\n",
    "from utils import window"
   ]
  },
  {
   "cell_type": "code",
   "execution_count": 2,
   "metadata": {},
   "outputs": [],
   "source": [
    "files = os.listdir(local_s4)"
   ]
  },
  {
   "cell_type": "code",
   "execution_count": 3,
   "metadata": {},
   "outputs": [
    {
     "name": "stdout",
     "output_type": "stream",
     "text": [
      "['df_1.pkl.xz', 'df_11.pkl.xz', 'df_14.pkl.xz', 'df_15.pkl.xz', 'df_16.pkl.xz', 'df_17.pkl.xz', 'df_18.pkl.xz', 'df_19.pkl.xz', 'df_20.pkl.xz', 'df_22.pkl.xz', 'df_24.pkl.xz', 'df_25.pkl.xz', 'df_26.pkl.xz', 'df_28.pkl.xz', 'df_29.pkl.xz', 'df_3.pkl.xz', 'df_30.pkl.xz', 'df_31.pkl.xz', 'df_32.pkl.xz', 'df_33.pkl.xz', 'df_34.pkl.xz', 'df_4.pkl.xz', 'df_5.pkl.xz', 'df_6.pkl.xz', 'df_8.pkl.xz', 'df_afl.pkl.xz', 'df_bhz.pkl.xz', 'df_bov.pkl.xz', 'df_bsa.pkl.xz', 'df_cpa.pkl.xz', 'df_cub.pkl.xz', 'df_dou.pkl.xz', 'df_imp.pkl.xz', 'df_ios.pkl.xz', 'df_nta.pkl.xz', 'df_pln.pkl.xz', 'df_pvh.pkl.xz', 'df_sj2.pkl.xz', 'df_sta.pkl.xz', 'df_tfe.pkl.xz']\n"
     ]
    }
   ],
   "source": [
    "print(files)"
   ]
  },
  {
   "cell_type": "markdown",
   "metadata": {},
   "source": [
    "Inicialmente, os dados de S4 são tais que existe mais de uma amostra por minuto, decorrente dos múltiplos satélites de GPS que estavam no campo de visada da estão naquele intervalo.\n",
    "\n",
    "O primeiro passo, assim, é combinar as várias medidas no intervalo de minuto gerando uma única medida por minuto, neste caso, tomou-se o valor m?dio de todos as medidas neste intervalo.\n",
    "\n",
    "O segundo passo é tratar as entradas sem valores, aqui, decidiu-se por utilizar uma interpolação por spline de ordem 3.\n",
    "\n",
    "O terceiro passo foi uma reamostragem dos dados para intervalores de 10 minutos, de forma, a compatibilizar com as taxas de amostragem dos demais dados a serem utilizados como o VTEC.\n",
    "\n",
    "Segue-se então como uma suavização do sinal, por meio de uma aplicação de uma média móvel centrada com pesos gaussianos. Note, uma vez que trata-se de uma m?dia centrada:\n",
    "\n",
    "\\begin{equation}\n",
    "y_t = \\sum_{i=-n}^{+n}w_iy_{t+i}\\mbox{,}\n",
    "\\end{equation}\n",
    "\n",
    "onde $n$  a srepresenta o tamanho da janela. A suavização definiada, assim, leva em conta pontos futuros, tornando-a inadequada para aplicações em tempo real, pontos no futuro não são conhecidos, e em previsões de séries temporais, a suavização adiciona contribuição do futuro aos dados."
   ]
  },
  {
   "cell_type": "code",
   "execution_count": 4,
   "metadata": {},
   "outputs": [],
   "source": [
    "def preprocessing(df_file, window):\n",
    "    df_s4 = pd.read_pickle(os.path.join(local_s4, df_file), compression='xz')\n",
    "    df_s4['eventdate'] = pd.to_datetime(df_s4['eventdate'], utc=True)\n",
    "    df_s4.index = df_s4['eventdate']\n",
    "    del df_s4['eventdate']\n",
    "    \n",
    "    # change for 1s\n",
    "    df_s4 = df_s4.resample('1T').mean()\n",
    "    df_s4 = df_s4.interpolate(method='spline', order=4) #4\n",
    "\n",
    "    # change for 10min\n",
    "    df_s4 = df_s4.resample('10T').mean()\n",
    "\n",
    "    # aplay filter Savitzky-Golay\n",
    "    # aplay a gaussian move average\n",
    "    df_s4['s4'] = savgol_filter(df_s4.values.ravel(), window, 3)\n",
    "    df_s4 = df_s4.rolling(window, win_type='gaussian', center=True).mean(std=1.0)\n",
    "    \n",
    "    return df_s4\n",
    "\n",
    "preprocessing_window = partial(preprocessing, window=window)"
   ]
  },
  {
   "cell_type": "code",
   "execution_count": 5,
   "metadata": {},
   "outputs": [
    {
     "name": "stdout",
     "output_type": "stream",
     "text": [
      "CPU times: user 143 ms, sys: 57.3 ms, total: 200 ms\n",
      "Wall time: 2min 14s\n"
     ]
    }
   ],
   "source": [
    "%%time\n",
    "df_s4_list = ProcessPool(nodes=mulprocessing.cpu_count()).map(preprocessing_window, files)"
   ]
  },
  {
   "cell_type": "code",
   "execution_count": 6,
   "metadata": {},
   "outputs": [],
   "source": [
    "for name, df_s4 in zip(files, df_s4_list):\n",
    "    df_s4.to_pickle(os.path.join(local_s4_pre,'pre_' + name.replace('.xz', '')))"
   ]
  }
 ],
 "metadata": {
  "kernelspec": {
   "display_name": "Python (Data Science)",
   "language": "python",
   "name": "dscience"
  },
  "language_info": {
   "codemirror_mode": {
    "name": "ipython",
    "version": 3
   },
   "file_extension": ".py",
   "mimetype": "text/x-python",
   "name": "python",
   "nbconvert_exporter": "python",
   "pygments_lexer": "ipython3",
   "version": "3.6.6"
  }
 },
 "nbformat": 4,
 "nbformat_minor": 2
}
